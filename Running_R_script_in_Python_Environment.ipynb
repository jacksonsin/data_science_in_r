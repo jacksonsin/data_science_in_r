{
  "nbformat": 4,
  "nbformat_minor": 0,
  "metadata": {
    "colab": {
      "name": "Running R script in Python Environment.ipynb",
      "provenance": [],
      "authorship_tag": "ABX9TyN8oAqVgOur+TsOMusOzEda",
      "include_colab_link": true
    },
    "kernelspec": {
      "name": "python3",
      "display_name": "Python 3"
    },
    "language_info": {
      "name": "python"
    }
  },
  "cells": [
    {
      "cell_type": "markdown",
      "metadata": {
        "id": "view-in-github",
        "colab_type": "text"
      },
      "source": [
        "<a href=\"https://colab.research.google.com/github/jacksonsin/statistics_in_r/blob/main/Running_R_script_in_Python_Environment.ipynb\" target=\"_parent\"><img src=\"https://colab.research.google.com/assets/colab-badge.svg\" alt=\"Open In Colab\"/></a>"
      ]
    },
    {
      "cell_type": "markdown",
      "source": [
        "**How to use R and Python together in Colab**\n",
        "<br>Reference: https://towardsdatascience.com/how-to-use-r-in-google-colab-b6e02d736497\n",
        "1. Open your favorite browser.\n",
        "2. Create a new notebook: https://colab.research.google.com/#create=true.\n",
        "3. Run rmagic by executing this command %load_ext rpy2.ipython.\n",
        "4. After that, every time you want to use R, add %%R in the beginning of each cell."
      ],
      "metadata": {
        "id": "YLp4qKbZOgwa"
      }
    },
    {
      "cell_type": "code",
      "execution_count": 1,
      "metadata": {
        "id": "CDwawds-N9Xq"
      },
      "outputs": [],
      "source": [
        "# Start rmagic by executing this in a cell:\n",
        "%load_ext rpy2.ipython"
      ]
    },
    {
      "cell_type": "code",
      "source": [
        "# Use %%R at the beginning of the cell if you want all syntax in a cell to be executed in R.\n",
        "%%R\n",
        "x <- seq(0, 2*pi, length.out=50)\n",
        "x"
      ],
      "metadata": {
        "colab": {
          "base_uri": "https://localhost:8080/"
        },
        "id": "gC43CxxUOPGo",
        "outputId": "7241aea9-dd6d-470b-89d9-f9c7bfba2fb2"
      },
      "execution_count": 2,
      "outputs": [
        {
          "output_type": "stream",
          "name": "stdout",
          "text": [
            " [1] 0.0000000 0.1282283 0.2564565 0.3846848 0.5129131 0.6411414 0.7693696\n",
            " [8] 0.8975979 1.0258262 1.1540544 1.2822827 1.4105110 1.5387393 1.6669675\n",
            "[15] 1.7951958 1.9234241 2.0516523 2.1798806 2.3081089 2.4363372 2.5645654\n",
            "[22] 2.6927937 2.8210220 2.9492502 3.0774785 3.2057068 3.3339351 3.4621633\n",
            "[29] 3.5903916 3.7186199 3.8468481 3.9750764 4.1033047 4.2315330 4.3597612\n",
            "[36] 4.4879895 4.6162178 4.7444460 4.8726743 5.0009026 5.1291309 5.2573591\n",
            "[43] 5.3855874 5.5138157 5.6420439 5.7702722 5.8985005 6.0267288 6.1549570\n",
            "[50] 6.2831853\n"
          ]
        }
      ]
    },
    {
      "cell_type": "code",
      "source": [
        "# Use %R to execute line magic. Use this if you want a single line in a cell to be executed in R\n",
        "x = %R x\n",
        "x"
      ],
      "metadata": {
        "colab": {
          "base_uri": "https://localhost:8080/"
        },
        "id": "Dmh5No_hQRO_",
        "outputId": "99b9b5b5-ed01-474d-d8a3-2e186df22742"
      },
      "execution_count": 4,
      "outputs": [
        {
          "output_type": "execute_result",
          "data": {
            "text/plain": [
              "array([0.        , 0.12822827, 0.25645654, 0.38468481, 0.51291309,\n",
              "       0.64114136, 0.76936963, 0.8975979 , 1.02582617, 1.15405444,\n",
              "       1.28228272, 1.41051099, 1.53873926, 1.66696753, 1.7951958 ,\n",
              "       1.92342407, 2.05165235, 2.17988062, 2.30810889, 2.43633716,\n",
              "       2.56456543, 2.6927937 , 2.82102197, 2.94925025, 3.07747852,\n",
              "       3.20570679, 3.33393506, 3.46216333, 3.5903916 , 3.71861988,\n",
              "       3.84684815, 3.97507642, 4.10330469, 4.23153296, 4.35976123,\n",
              "       4.48798951, 4.61621778, 4.74444605, 4.87267432, 5.00090259,\n",
              "       5.12913086, 5.25735913, 5.38558741, 5.51381568, 5.64204395,\n",
              "       5.77027222, 5.89850049, 6.02672876, 6.15495704, 6.28318531])"
            ]
          },
          "metadata": {},
          "execution_count": 4
        }
      ]
    }
  ]
}